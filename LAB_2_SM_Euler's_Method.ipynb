{
  "cells": [
    {
      "cell_type": "code",
      "execution_count": null,
      "metadata": {
        "id": "mEshh-Lbm8P2"
      },
      "outputs": [],
      "source": [
        "from tabulate import tabulate\n",
        "from sympy import *\n",
        "\n",
        "def euler(f, exactF, y0, h, iterations):#f is the dy/dx=f(x,y); exactF is the solution of DE\n",
        "    x_prev = 0\n",
        "    y_prev = y0\n",
        "    data = []\n",
        "    error=0\n",
        "\n",
        "    while(error>1000)\n",
        "        f_prev = f.subs({'x': x_prev, 'y': y_prev})\n",
        "        y_prev = y_prev + (h*f_prev)\n",
        "        x_prev = x_prev + h\n",
        "        exact_y = exactF.subs({'x': x_prev, 'y': y_prev})\n",
        "        error = abs((y_prev-exact_y)/exact_y)\n",
        "        \n",
        "        data.append([i+1, x_prev, y_prev, f_prev, exact_y, error])\n",
        "\n",
        "    print(tabulate(data,headers=['#','xn','yn','f(xn, yn)', 'exact', 'error'],tablefmt=\"github\"))\n",
        "\n",
        "f = sympify(input(\"Input function f(x, y). Dependent variable: y, Independent variable: x.\\nInstructions:\\n 1. if f(x, y) = 2x + 7, then input (2*x)+7.\\n 2. To write e^x, use exp(x):\\n\"))\n",
        "exactF = sympify(input(\"Exact function:\\n\"))\n",
        "\n",
        "y0 = float(input(\"Initial condition y(0): \"))\n",
        "\n",
        "h = float(input(\"Step size: \"))\n",
        "\n",
        "iterations = int(input(\"No. of iterations: \"))\n",
        "\n",
        "euler(f, exactF, y0, h, iterations)\n",
        "\n"
      ]
    },
    {
      "cell_type": "markdown",
      "metadata": {
        "id": "kps7X8UBm8P-"
      },
      "source": [
        "## Change the program by changing stopping crieteria to a particular error (10^-4). Display the results with error column."
      ]
    }
  ],
  "metadata": {
    "colab": {
      "collapsed_sections": [
        "4dlpr2pIRGbJ",
        "twgExIf7RGba",
        "kYo2imycRGcF",
        "kCbh-UQsRGcS",
        "OKTWKYtYRGce",
        "BtmoDwfORGcr",
        "OrK3BjNORGcv",
        "cB_TXXd6RGc-",
        "f00OhtbMRGdI",
        "emlUjfCYRGdS",
        "v-ikeqStRGdb",
        "qdTLuDkqRGde",
        "TNm7DpykRGdq",
        "UCedls43RGdv",
        "1b5d5Vn8RGd_",
        "Oe0cU2VIRGeG",
        "oz-w2JtzRGeT"
      ],
      "name": "LAB 2 SM Euler's Method.ipynb",
      "provenance": []
    },
    "kernelspec": {
      "display_name": "Python 3",
      "language": "python",
      "name": "python3"
    },
    "language_info": {
      "codemirror_mode": {
        "name": "ipython",
        "version": 3
      },
      "file_extension": ".py",
      "mimetype": "text/x-python",
      "name": "python",
      "nbconvert_exporter": "python",
      "pygments_lexer": "ipython3",
      "version": "3.8.8"
    }
  },
  "nbformat": 4,
  "nbformat_minor": 0
}